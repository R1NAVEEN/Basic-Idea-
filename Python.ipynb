{
 "cells": [
  {
   "cell_type": "code",
   "execution_count": null,
   "id": "2d8227a2-a29c-48f8-8dee-8be296f598a3",
   "metadata": {},
   "outputs": [],
   "source": [
    "a = {1, 2, 3, 4, 5, 6, 2, 3, 4, 5, 1, 6, 2, 2, 3, 4, 5, 6, 6, 1, 3, 4, 5}\n",
    "b = {1, 2, 3, 4, 5, 6, 7, 8, 9, 10, 22, 33, 44, 55, 66, 77, 88, 99, 100}"
   ]
  },
  {
   "cell_type": "code",
   "execution_count": null,
   "id": "04e3fd3d-8e98-4461-955c-2408b6b5201c",
   "metadata": {},
   "outputs": [],
   "source": [
    "print((a) - (b))"
   ]
  },
  {
   "cell_type": "code",
   "execution_count": null,
   "id": "9c04360e-c9b6-4ba5-a737-9a2ba69b14a9",
   "metadata": {},
   "outputs": [],
   "source": [
    "values = [1, 2, 3, 4, 5]\n",
    "for num  in values:\n",
    "    print(num)"
   ]
  },
  {
   "cell_type": "code",
   "execution_count": null,
   "id": "0f7fac79-32ea-47a4-abf6-6e25eda368d2",
   "metadata": {},
   "outputs": [],
   "source": [
    "dict = {'name': 'Naveen', 'Age':24, 'Profession':['ML', 'DL']}\n",
    "for key, values in dict.items():\n",
    "    print(key ,'->', values)"
   ]
  },
  {
   "cell_type": "code",
   "execution_count": null,
   "id": "58572bd6-c370-49cf-85b5-e93334bb03e0",
   "metadata": {},
   "outputs": [],
   "source": [
    "num = 0\n",
    "while num < 5:\n",
    "    print(num)\n",
    "    num = num+1"
   ]
  },
  {
   "cell_type": "code",
   "execution_count": null,
   "id": "6a779544-184e-4b0d-acb6-e73fe2a5f999",
   "metadata": {},
   "outputs": [],
   "source": [
    "num = 0\n",
    "while num < 5:\n",
    "    print(num)\n",
    "    if num == 3:\n",
    "        break\n",
    "        num = num+1"
   ]
  },
  {
   "cell_type": "code",
   "execution_count": null,
   "id": "dbf07b1c-70a4-43b2-9cda-243d300d7570",
   "metadata": {},
   "outputs": [],
   "source": [
    "num = 0\n",
    "while num < 5:\n",
    "    print(num)\n",
    "    if num == 3:\n",
    "        break\n",
    "        num = num+1\n",
    "    else:\n",
    "        print(\"no long\")"
   ]
  },
  {
   "cell_type": "code",
   "execution_count": null,
   "id": "807ab9a9-b83e-4cdc-b854-76fd733000c7",
   "metadata": {},
   "outputs": [],
   "source": [
    "num = 0\n",
    "while num < 5:\n",
    "    print(num)\n",
    "    if num == 3:\n",
    "        continue\n",
    "        num = num+1"
   ]
  },
  {
   "cell_type": "markdown",
   "id": "9052e80d-a198-46c5-b12a-ed898805eaa7",
   "metadata": {},
   "source": [
    "# BMI Calculator\n",
    "\n",
    "> https://mercer-health.com/services/weight-management-center/bmi-calculator#:~:text=Body%20Mass%20Index%2C%20or%20BMI,inches%20x%20height%20in%20inches"
   ]
  },
  {
   "cell_type": "code",
   "execution_count": 18,
   "id": "28981375-5df5-487e-aa02-7f1068a65ae4",
   "metadata": {},
   "outputs": [
    {
     "name": "stdin",
     "output_type": "stream",
     "text": [
      "Enter Your Name:  Naveen Kumar\n",
      "Enter your Weight:  110\n",
      "Enter you height in Inches:  66\n"
     ]
    },
    {
     "name": "stdout",
     "output_type": "stream",
     "text": [
      "17.752525252525253\n",
      "Naveen Kumar Your are Underweight\n"
     ]
    }
   ],
   "source": [
    "name = input(\"Enter Your Name: \")\n",
    "weight = int(input(\"Enter your Weight: \"))\n",
    "height = int(input(\"Enter you height in Inches: \"))\n",
    "BMI = (weight * 703) / (height * height)\n",
    "print(BMI)\n",
    "if BMI > 0:\n",
    "    if BMI < 18.5:\n",
    "        print(name + \" Your are Underweight\")\n",
    "    elif BMI < 24.9:\n",
    "        print(name + \" Your are Underweight\")\n",
    "    elif BMI < 29.9:\n",
    "        print(name + \" Your are Underweight\")\n",
    "    elif BMI < 34.9:\n",
    "        print(name + \" Your are Underweight\")\n",
    "    elif BMI < 39.9:\n",
    "        print(name + \" Your are Underweight\")\n",
    "    else:\n",
    "        print(name + \" You are morbidly Obese.\")\n",
    "else:\n",
    "    print(\"Invalid Input\")"
   ]
  },
  {
   "cell_type": "markdown",
   "id": "c55c5fbc-ad7c-4f0f-bd3f-4df7ae62e910",
   "metadata": {},
   "source": [
    "# Automatic File Sorter in File Explorer"
   ]
  },
  {
   "cell_type": "code",
   "execution_count": 36,
   "id": "d43a2377-349a-4d13-b80f-0f954e12dd0d",
   "metadata": {},
   "outputs": [],
   "source": [
    "import os, shutil"
   ]
  },
  {
   "cell_type": "code",
   "execution_count": 37,
   "id": "54fff3d0-2cb3-4628-ad9e-dfe869fa5345",
   "metadata": {},
   "outputs": [],
   "source": [
    "path = r\"C:/Users/krish/Music/\""
   ]
  },
  {
   "cell_type": "code",
   "execution_count": 38,
   "id": "1f2b4edd-ea68-4016-b8c6-d348ef9d736d",
   "metadata": {},
   "outputs": [],
   "source": [
    "file_name = os.listdir(path)"
   ]
  },
  {
   "cell_type": "code",
   "execution_count": 39,
   "id": "38172359-151f-494e-aab4-1546e2c3acd4",
   "metadata": {},
   "outputs": [],
   "source": [
    "folder_names = [\"csv files\", \"jpeg files\", \"text files\"]\n",
    "for loop in range(0, 3):\n",
    "    if not os.path.exists(path + folder_names[loop]):\n",
    "        os.mkdir(path + folder_names[loop])\n",
    "\n",
    "for file in file_name:\n",
    "    if \".csv\" in file and not  os.path.exists(path + \"csv files/\" + file):\n",
    "        shutil.move(path + file, path + \"csv files/\" + file)\n",
    "    elif \".jpeg\" in file and not  os.path.exists(path + \"jpeg files/\" + file):\n",
    "        shutil.move(path + file, path + \"jpeg files/\" + file)\n",
    "    elif \".txt\" in file and not  os.path.exists(path + \"text files/\" + file):\n",
    "        shutil.move(path + file, path + \"text files/\" + file)"
   ]
  },
  {
   "cell_type": "code",
   "execution_count": null,
   "id": "141c24aa-2d35-4fe6-9d07-539894c5dee3",
   "metadata": {},
   "outputs": [],
   "source": []
  },
  {
   "cell_type": "code",
   "execution_count": null,
   "id": "5a49f3d7-78a9-4914-9c9e-32d87727ab31",
   "metadata": {},
   "outputs": [],
   "source": []
  },
  {
   "cell_type": "code",
   "execution_count": null,
   "id": "21b39517-2021-4a64-a8fc-f04eb524cde9",
   "metadata": {},
   "outputs": [],
   "source": []
  },
  {
   "cell_type": "code",
   "execution_count": 2,
   "id": "4d751537-0b4c-4d2c-8d69-0b7715029dea",
   "metadata": {},
   "outputs": [],
   "source": []
  },
  {
   "cell_type": "code",
   "execution_count": null,
   "id": "b0ee385f-4c4b-425c-94c5-77bbaa4e89e8",
   "metadata": {},
   "outputs": [],
   "source": []
  }
 ],
 "metadata": {
  "kernelspec": {
   "display_name": "Python 3 (ipykernel)",
   "language": "python",
   "name": "python3"
  },
  "language_info": {
   "codemirror_mode": {
    "name": "ipython",
    "version": 3
   },
   "file_extension": ".py",
   "mimetype": "text/x-python",
   "name": "python",
   "nbconvert_exporter": "python",
   "pygments_lexer": "ipython3",
   "version": "3.10.13"
  }
 },
 "nbformat": 4,
 "nbformat_minor": 5
}
